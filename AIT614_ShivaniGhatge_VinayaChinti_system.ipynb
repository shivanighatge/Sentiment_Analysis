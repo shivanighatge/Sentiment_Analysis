{
 "cells": [
  {
   "cell_type": "markdown",
   "metadata": {},
   "source": [
    "AIT-614 : Big Data Essentials\n",
    "    \n",
    "Purpose : Project on Sentimental Analysis using Amazon’s Electronics Review Dataset\n",
    "    \n",
    "Created By : Team 2 (05/09/2020)\n",
    "    \n",
    "            Shivani Ghatge\n",
    "            Vinaya Chinti"
   ]
  },
  {
   "cell_type": "markdown",
   "metadata": {},
   "source": [
    "Importing the Libraries "
   ]
  },
  {
   "cell_type": "code",
   "execution_count": 1,
   "metadata": {},
   "outputs": [],
   "source": [
    "#import library for pyspark\n",
    "import pyspark"
   ]
  },
  {
   "cell_type": "code",
   "execution_count": 2,
   "metadata": {},
   "outputs": [],
   "source": [
    "import findspark\n",
    "findspark.init()\n",
    "import pyspark as ps\n",
    "import warnings\n",
    "from pyspark.sql import functions as f\n",
    "import wordcloud"
   ]
  },
  {
   "cell_type": "code",
   "execution_count": 3,
   "metadata": {},
   "outputs": [],
   "source": [
    "from pyspark import SparkContext\n",
    "from pyspark.sql import SQLContext\n",
    "sc = SparkContext(appName='JSON Schema')\n",
    "sqlContext = SQLContext(sc)"
   ]
  },
  {
   "cell_type": "code",
   "execution_count": 4,
   "metadata": {},
   "outputs": [],
   "source": [
    "from pyspark_dist_explore import hist\n",
    "import matplotlib.pyplot as plt\n",
    "import matplotlib.ticker as plticker"
   ]
  },
  {
   "cell_type": "code",
   "execution_count": 5,
   "metadata": {},
   "outputs": [],
   "source": [
    "from pyspark.sql.functions import col\n",
    "from pyspark.sql.functions import unix_timestamp\n",
    "from pyspark.sql.functions import from_unixtime\n",
    "from pyspark.sql.functions import year, month, dayofmonth\n",
    "from pyspark.sql.functions import avg"
   ]
  },
  {
   "cell_type": "code",
   "execution_count": 6,
   "metadata": {},
   "outputs": [],
   "source": [
    "from pyspark.ml.feature import HashingTF, IDF, Tokenizer , StopWordsRemover\n",
    "from pyspark.ml.feature import StringIndexer\n",
    "from pyspark.ml import Pipeline\n",
    "from nltk.stem.snowball import SnowballStemmer\n",
    "from pyspark.ml.feature import CountVectorizer"
   ]
  },
  {
   "cell_type": "code",
   "execution_count": 7,
   "metadata": {},
   "outputs": [],
   "source": [
    "from pyspark.ml.classification import LogisticRegression\n",
    "from pyspark.ml.classification import DecisionTreeClassifier\n",
    "from pyspark.ml.classification import NaiveBayes\n",
    "from pyspark.ml.classification import RandomForestClassifier\n",
    "from pyspark.ml.evaluation import MulticlassClassificationEvaluator"
   ]
  },
  {
   "cell_type": "code",
   "execution_count": 8,
   "metadata": {},
   "outputs": [],
   "source": [
    "JSON_FILE_PATH  = \"C:/Users/15714/Documents/GMU/AIT-614/Project/Electronics_5.json/Electronics_5.json\""
   ]
  },
  {
   "cell_type": "code",
   "execution_count": 9,
   "metadata": {},
   "outputs": [],
   "source": [
    "#Load json file\n",
    "elec_json_data = sqlContext.read.json(JSON_FILE_PATH)"
   ]
  },
  {
   "cell_type": "code",
   "execution_count": 10,
   "metadata": {},
   "outputs": [
    {
     "name": "stdout",
     "output_type": "stream",
     "text": [
      "Schema of the Electronics Data:\n",
      "root\n",
      " |-- asin: string (nullable = true)\n",
      " |-- image: array (nullable = true)\n",
      " |    |-- element: string (containsNull = true)\n",
      " |-- overall: double (nullable = true)\n",
      " |-- reviewText: string (nullable = true)\n",
      " |-- reviewTime: string (nullable = true)\n",
      " |-- reviewerID: string (nullable = true)\n",
      " |-- reviewerName: string (nullable = true)\n",
      " |-- style: struct (nullable = true)\n",
      " |    |-- Capacity:: string (nullable = true)\n",
      " |    |-- Color Name:: string (nullable = true)\n",
      " |    |-- Color:: string (nullable = true)\n",
      " |    |-- Colorj:: string (nullable = true)\n",
      " |    |-- Colour:: string (nullable = true)\n",
      " |    |-- Configuration:: string (nullable = true)\n",
      " |    |-- Design:: string (nullable = true)\n",
      " |    |-- Edition:: string (nullable = true)\n",
      " |    |-- Format:: string (nullable = true)\n",
      " |    |-- Grip Type:: string (nullable = true)\n",
      " |    |-- Item Display Length:: string (nullable = true)\n",
      " |    |-- Item Package Quantity:: string (nullable = true)\n",
      " |    |-- Length Range:: string (nullable = true)\n",
      " |    |-- Length:: string (nullable = true)\n",
      " |    |-- Material Type:: string (nullable = true)\n",
      " |    |-- Metal Type:: string (nullable = true)\n",
      " |    |-- Model Name:: string (nullable = true)\n",
      " |    |-- Model Number:: string (nullable = true)\n",
      " |    |-- Model:: string (nullable = true)\n",
      " |    |-- Number of Items:: string (nullable = true)\n",
      " |    |-- Offer Type:: string (nullable = true)\n",
      " |    |-- Package Quantity:: string (nullable = true)\n",
      " |    |-- Package Type:: string (nullable = true)\n",
      " |    |-- Pattern:: string (nullable = true)\n",
      " |    |-- Platform for Display:: string (nullable = true)\n",
      " |    |-- Platform:: string (nullable = true)\n",
      " |    |-- Preamplifier Output Channel Quantity:: string (nullable = true)\n",
      " |    |-- Processor Description:: string (nullable = true)\n",
      " |    |-- Product Packaging:: string (nullable = true)\n",
      " |    |-- Service plan term:: string (nullable = true)\n",
      " |    |-- Shape:: string (nullable = true)\n",
      " |    |-- Size Name:: string (nullable = true)\n",
      " |    |-- Size:: string (nullable = true)\n",
      " |    |-- Style Name:: string (nullable = true)\n",
      " |    |-- Style:: string (nullable = true)\n",
      " |    |-- Team Name:: string (nullable = true)\n",
      " |    |-- Tension Supported:: string (nullable = true)\n",
      " |    |-- Width:: string (nullable = true)\n",
      " |    |-- processor_description:: string (nullable = true)\n",
      " |    |-- style name:: string (nullable = true)\n",
      " |    |-- style:: string (nullable = true)\n",
      " |-- summary: string (nullable = true)\n",
      " |-- unixReviewTime: long (nullable = true)\n",
      " |-- verified: boolean (nullable = true)\n",
      " |-- vote: string (nullable = true)\n",
      "\n",
      "None\n"
     ]
    }
   ],
   "source": [
    "#Printing the schema of the Electronics Data\n",
    "print(\"Schema of the Electronics Data:\")\n",
    "print(elec_json_data.printSchema())"
   ]
  },
  {
   "cell_type": "code",
   "execution_count": 11,
   "metadata": {},
   "outputs": [
    {
     "name": "stdout",
     "output_type": "stream",
     "text": [
      "+----------+-----+-------+--------------------+-----------+--------------+----------------+--------------------+--------------------+--------------+--------+----+\n",
      "|      asin|image|overall|          reviewText| reviewTime|    reviewerID|    reviewerName|               style|             summary|unixReviewTime|verified|vote|\n",
      "+----------+-----+-------+--------------------+-----------+--------------+----------------+--------------------+--------------------+--------------+--------+----+\n",
      "|0151004714| null|    5.0|This is the best ...|09 18, 1999| AAP7PPBU72QFM|    D. C. Carrad|[,,,,,,,,  Hardco...|      A star is born|     937612800|    true|  67|\n",
      "|0151004714| null|    3.0|Pages and pages o...|10 23, 2013|A2E168DTVGE6SV|             Evy|[,,,,,,,,  Kindle...|A stream of consc...|    1382486400|    true|   5|\n",
      "|0151004714| null|    5.0|This is the kind ...| 09 2, 2008|A1ER5AYS3FQ9O3|           Kcorn|[,,,,,,,,  Paperb...|I'm a huge fan of...|    1220313600|   false|   4|\n",
      "|0151004714| null|    5.0|What gorgeous lan...| 09 4, 2000|A1T17LMQABMBN5| Caf Girl Writes|[,,,,,,,,  Hardco...|The most beautifu...|     968025600|   false|  13|\n",
      "|0151004714| null|    3.0|I was taken in by...| 02 4, 2000|A3QHJ0FXK33OBE|W. Shane Schmidt|[,,,,,,,,  Hardco...|A dissenting view...|     949622400|    true|   8|\n",
      "+----------+-----+-------+--------------------+-----------+--------------+----------------+--------------------+--------------------+--------------+--------+----+\n",
      "only showing top 5 rows\n",
      "\n"
     ]
    }
   ],
   "source": [
    "#Displaying the five records\n",
    "elec_json_data.show(5)"
   ]
  },
  {
   "cell_type": "code",
   "execution_count": 12,
   "metadata": {},
   "outputs": [
    {
     "name": "stdout",
     "output_type": "stream",
     "text": [
      "Number of Records in the Electronics Dataset:\n"
     ]
    },
    {
     "data": {
      "text/plain": [
       "6739590"
      ]
     },
     "execution_count": 12,
     "metadata": {},
     "output_type": "execute_result"
    }
   ],
   "source": [
    "print(\"Number of Records in the Electronics Dataset:\")\n",
    "elec_json_data.count()"
   ]
  },
  {
   "cell_type": "code",
   "execution_count": 13,
   "metadata": {},
   "outputs": [
    {
     "name": "stdout",
     "output_type": "stream",
     "text": [
      "Top 10 reviewed products:\n",
      "+----------+-----+\n",
      "|      asin|count|\n",
      "+----------+-----+\n",
      "|B003L1ZYYW| 8617|\n",
      "|B0019HL8Q8| 8160|\n",
      "|B0019EHU8G| 7777|\n",
      "|B0015DYMVO| 7380|\n",
      "|B000VS4HDM| 6802|\n",
      "|B00DIF2BO2| 6226|\n",
      "|B00M55C0NS| 6219|\n",
      "|B00BWF5U0M| 6184|\n",
      "|B00IVPU7AO| 5987|\n",
      "|B000BQ7GW8| 5985|\n",
      "+----------+-----+\n",
      "only showing top 10 rows\n",
      "\n"
     ]
    }
   ],
   "source": [
    "print(\"Top 10 reviewed products:\")\n",
    "brands=elec_json_data.groupBy(\"asin\").count().sort(col(\"count\").desc()).show(10)"
   ]
  },
  {
   "cell_type": "code",
   "execution_count": 14,
   "metadata": {},
   "outputs": [
    {
     "name": "stdout",
     "output_type": "stream",
     "text": [
      "Bottom 10 reviewed products:\n",
      "+----------+-----+\n",
      "|      asin|count|\n",
      "+----------+-----+\n",
      "|B000AV2FHA|    1|\n",
      "|B0013MYX8E|    1|\n",
      "|B000YJAWUA|    1|\n",
      "|B0012KHNZW|    1|\n",
      "|B0013MYX9S|    1|\n",
      "|B0015C1RGS|    1|\n",
      "|B00166G6EG|    1|\n",
      "|B00125Q77C|    1|\n",
      "|B000WGS5B8|    1|\n",
      "|B000Y021Q2|    2|\n",
      "+----------+-----+\n",
      "only showing top 10 rows\n",
      "\n"
     ]
    }
   ],
   "source": [
    "print(\"Bottom 10 reviewed products:\")\n",
    "elec_json_data.groupBy(\"asin\").count().sort(col(\"count\").asc()).show(10)"
   ]
  },
  {
   "cell_type": "code",
   "execution_count": 15,
   "metadata": {},
   "outputs": [
    {
     "name": "stdout",
     "output_type": "stream",
     "text": [
      "+-----------+----+-----+\n",
      "| reviewTime|year|month|\n",
      "+-----------+----+-----+\n",
      "|09 18, 1999|1999|    9|\n",
      "|10 23, 2013|2013|   10|\n",
      "| 09 2, 2008|2008|    9|\n",
      "| 09 4, 2000|2000|    9|\n",
      "| 02 4, 2000|2000|    2|\n",
      "+-----------+----+-----+\n",
      "only showing top 5 rows\n",
      "\n"
     ]
    }
   ],
   "source": [
    "#Extracting year and monthe from the reviewTime \n",
    "elec_json_data_1 = elec_json_data.select('reviewTime', \n",
    "            from_unixtime(unix_timestamp('reviewTime', 'MM dd, yyyy')).alias('date'))\n",
    "\n",
    "elec_json_data_2 = elec_json_data_1.select(\"reviewTime\",\n",
    "    year(\"date\").alias('year'), \n",
    "    month(\"date\").alias('month'), \n",
    "    )\n",
    "elec_json_data_2.show(5)"
   ]
  },
  {
   "cell_type": "code",
   "execution_count": 16,
   "metadata": {},
   "outputs": [
    {
     "name": "stdout",
     "output_type": "stream",
     "text": [
      "+-------+------------------+\n",
      "|overall|   avg(word_count)|\n",
      "+-------+------------------+\n",
      "|    1.0| 78.83656921212952|\n",
      "|    4.0| 87.32429248289729|\n",
      "|    3.0| 89.00920597249105|\n",
      "|    2.0| 93.45813823057559|\n",
      "|    5.0|53.828439705780994|\n",
      "+-------+------------------+\n",
      "\n"
     ]
    }
   ],
   "source": [
    "#Calculate Average Length for Reviews\n",
    "elec_json_data = elec_json_data.withColumn(\"word_count\", f.size(f.split(elec_json_data['reviewText'], ' ')))\n",
    "review_length  = elec_json_data.select(\"overall\",\"word_count\").groupBy(\"overall\").agg(avg(\"word_count\"))\n",
    "review_length.show()"
   ]
  },
  {
   "cell_type": "markdown",
   "metadata": {},
   "source": [
    "Data Visualizations"
   ]
  },
  {
   "cell_type": "markdown",
   "metadata": {},
   "source": [
    "Data Visualization for the Distribution of Overall Rating"
   ]
  },
  {
   "cell_type": "code",
   "execution_count": 17,
   "metadata": {},
   "outputs": [
    {
     "data": {
      "text/plain": [
       "(array([ 467158.,       0.,       0.,       0.,       0.,  306676.,\n",
       "              0.,       0.,       0.,       0.,  504781.,       0.,\n",
       "              0.,       0.,       0., 1137393.,       0.,       0.,\n",
       "              0., 4323582.]),\n",
       " array([1. , 1.2, 1.4, 1.6, 1.8, 2. , 2.2, 2.4, 2.6, 2.8, 3. , 3.2, 3.4,\n",
       "        3.6, 3.8, 4. , 4.2, 4.4, 4.6, 4.8, 5. ]),\n",
       " <a list of 20 Patch objects>)"
      ]
     },
     "execution_count": 17,
     "metadata": {},
     "output_type": "execute_result"
    },
    {
     "data": {
      "image/png": "[encoded data removed]",
      "text/plain": [
       "<Figure size 432x288 with 1 Axes>"
      ]
     },
     "metadata": {
      "needs_background": "light"
     },
     "output_type": "display_data"
    }
   ],
   "source": [
    "#Visulaization of distribution of Overall Ratings\n",
    "fig, axes = plt.subplots()\n",
    "plt.title('Distribution of Overall Rating')\n",
    "plt.xlabel('Overall Rating')\n",
    "plt.ylabel('Count')\n",
    "loc = plticker.MultipleLocator(base=1.0) # this locator puts ticks at regular intervals\n",
    "axes.xaxis.set_major_locator(loc)\n",
    "hist(axes, elec_json_data.select(\"overall\"), bins = 20, color=['cyan'])"
   ]
  },
  {
   "cell_type": "markdown",
   "metadata": {},
   "source": [
    "Data visualization for growth in number of reviews over years"
   ]
  },
  {
   "cell_type": "code",
   "execution_count": 18,
   "metadata": {},
   "outputs": [
    {
     "data": {
      "text/plain": [
       "(array([9.500000e+01, 8.600000e+02, 1.811000e+03, 2.718000e+03,\n",
       "        4.218000e+03, 6.513000e+03, 1.218000e+04, 2.082000e+04,\n",
       "        5.020100e+04, 8.842800e+04, 1.145910e+05, 1.227880e+05,\n",
       "        1.784870e+05, 2.969200e+05, 6.454800e+05, 1.034835e+06,\n",
       "        1.441804e+06, 1.426496e+06, 9.129150e+05, 3.774300e+05]),\n",
       " array([1999.  , 1999.95, 2000.9 , 2001.85, 2002.8 , 2003.75, 2004.7 ,\n",
       "        2005.65, 2006.6 , 2007.55, 2008.5 , 2009.45, 2010.4 , 2011.35,\n",
       "        2012.3 , 2013.25, 2014.2 , 2015.15, 2016.1 , 2017.05, 2018.  ]),\n",
       " <a list of 20 Patch objects>)"
      ]
     },
     "execution_count": 18,
     "metadata": {},
     "output_type": "execute_result"
    },
    {
     "data": {
      "image/png": "[encoded data removed]",
      "text/plain": [
       "<Figure size 432x288 with 1 Axes>"
      ]
     },
     "metadata": {
      "needs_background": "light"
     },
     "output_type": "display_data"
    }
   ],
   "source": [
    "#Visualization for growth in number of reviews over years\n",
    "fig, axes = plt.subplots()\n",
    "plt.title('Growth in number of reviews over years')\n",
    "plt.xlabel('Years')\n",
    "plt.ylabel('Number of reviews')\n",
    "loc = plticker.MultipleLocator(base=5.0) # this locator puts ticks at regular intervals\n",
    "axes.xaxis.set_major_locator(loc)\n",
    "hist(axes, elec_json_data_2.select(\"year\"), bins = 20, color=['red'])"
   ]
  },
  {
   "cell_type": "markdown",
   "metadata": {},
   "source": [
    "Data visualization for growth in number of reviews over months"
   ]
  },
  {
   "cell_type": "code",
   "execution_count": 19,
   "metadata": {},
   "outputs": [
    {
     "data": {
      "text/plain": [
       "(array([701016.,      0., 585830.,      0., 609053.,      0., 537245.,\n",
       "             0., 522373.,      0., 502244.,      0.,      0., 559211.,\n",
       "             0., 554631.,      0., 508119.,      0., 500861.,      0.,\n",
       "        515307.,      0., 643700.]),\n",
       " array([ 1.        ,  1.45833333,  1.91666667,  2.375     ,  2.83333333,\n",
       "         3.29166667,  3.75      ,  4.20833333,  4.66666667,  5.125     ,\n",
       "         5.58333333,  6.04166667,  6.5       ,  6.95833333,  7.41666667,\n",
       "         7.875     ,  8.33333333,  8.79166667,  9.25      ,  9.70833333,\n",
       "        10.16666667, 10.625     , 11.08333333, 11.54166667, 12.        ]),\n",
       " <a list of 24 Patch objects>)"
      ]
     },
     "execution_count": 19,
     "metadata": {},
     "output_type": "execute_result"
    },
    {
     "data": {
      "image/png": "[encoded data removed]",
      "text/plain": [
       "<Figure size 432x288 with 1 Axes>"
      ]
     },
     "metadata": {
      "needs_background": "light"
     },
     "output_type": "display_data"
    }
   ],
   "source": [
    "#visualization for growth in number of reviews over months\n",
    "fig, axes = plt.subplots()\n",
    "plt.title('Growth in number of reviews over month')\n",
    "plt.xlabel('Months')\n",
    "plt.ylabel('Number of reviews')\n",
    "loc = plticker.MultipleLocator(base=1.0) # this locator puts ticks at regular intervals\n",
    "axes.xaxis.set_major_locator(loc)\n",
    "hist(axes, elec_json_data_2.select(\"month\"), bins = 24, color=['blue'])"
   ]
  },
  {
   "cell_type": "markdown",
   "metadata": {},
   "source": [
    "Data Visualization for Average Text Length vs Ratings"
   ]
  },
  {
   "cell_type": "code",
   "execution_count": 21,
   "metadata": {},
   "outputs": [
    {
     "data": {
      "image/png": "[encoded data removed]",
      "text/plain": [
       "<Figure size 432x288 with 1 Axes>"
      ]
     },
     "metadata": {
      "needs_background": "light"
     },
     "output_type": "display_data"
    }
   ],
   "source": [
    "#Visualization for Average Text Length vs Ratings\n",
    "overall = review_length.toPandas()[\"overall\"].values.tolist()\n",
    "avg = review_length.toPandas()[\"avg(word_count)\"].values.tolist()\n",
    "plt.bar(overall,avg)\n",
    "plt.xlabel('Ratings', fontsize=10)\n",
    "plt.ylabel('Average Length of Review Text', fontsize=10)\n",
    "plt.title('Average Review Text Lenth VS Ratings')\n",
    "plt.show()"
   ]
  },
  {
   "cell_type": "markdown",
   "metadata": {},
   "source": [
    "Dimentionality Reduction"
   ]
  },
  {
   "cell_type": "code",
   "execution_count": 13,
   "metadata": {},
   "outputs": [
    {
     "name": "stdout",
     "output_type": "stream",
     "text": [
      "+--------------------+-------+\n",
      "|          reviewText|overall|\n",
      "+--------------------+-------+\n",
      "|This is the best ...|    5.0|\n",
      "|Pages and pages o...|    3.0|\n",
      "|This is the kind ...|    5.0|\n",
      "|What gorgeous lan...|    5.0|\n",
      "|I was taken in by...|    3.0|\n",
      "+--------------------+-------+\n",
      "only showing top 5 rows\n",
      "\n"
     ]
    }
   ],
   "source": [
    "#For the analysis , we use 2 columns reviewText and overall\n",
    "review_data = elec_json_data.select(\"reviewText\", \"overall\")\n",
    "review_data.show(5)"
   ]
  },
  {
   "cell_type": "code",
   "execution_count": 14,
   "metadata": {},
   "outputs": [
    {
     "name": "stdout",
     "output_type": "stream",
     "text": [
      "Number of Records for the Reviews Data:\n"
     ]
    },
    {
     "data": {
      "text/plain": [
       "6739590"
      ]
     },
     "execution_count": 14,
     "metadata": {},
     "output_type": "execute_result"
    }
   ],
   "source": [
    "print(\"Number of Records for the Reviews Data:\")\n",
    "review_data.count()"
   ]
  },
  {
   "cell_type": "code",
   "execution_count": 15,
   "metadata": {},
   "outputs": [
    {
     "name": "stdout",
     "output_type": "stream",
     "text": [
      "Number of Records for the Reviews Data after cleaning:\n"
     ]
    },
    {
     "data": {
      "text/plain": [
       "6738237"
      ]
     },
     "execution_count": 15,
     "metadata": {},
     "output_type": "execute_result"
    }
   ],
   "source": [
    "#Data Cleaning to check null values\n",
    "review_data = review_data.where(f.col('reviewText').isNotNull())\n",
    "review_data = review_data.where(f.col('overall').isNotNull())\n",
    "print(\"Number of Records for the Reviews Data after cleaning:\")\n",
    "review_data.count()"
   ]
  },
  {
   "cell_type": "markdown",
   "metadata": {},
   "source": [
    "Adding the sentiments columns"
   ]
  },
  {
   "cell_type": "code",
   "execution_count": 16,
   "metadata": {},
   "outputs": [
    {
     "name": "stdout",
     "output_type": "stream",
     "text": [
      "+--------------------+-------+---------+\n",
      "|          reviewText|overall|sentiment|\n",
      "+--------------------+-------+---------+\n",
      "|This is the best ...|    5.0|      pos|\n",
      "|Pages and pages o...|    3.0|      net|\n",
      "|This is the kind ...|    5.0|      pos|\n",
      "|What gorgeous lan...|    5.0|      pos|\n",
      "|I was taken in by...|    3.0|      net|\n",
      "+--------------------+-------+---------+\n",
      "only showing top 5 rows\n",
      "\n"
     ]
    }
   ],
   "source": [
    "review_data = review_data.withColumn('sentiment', f.when(f.col('overall') > 3, \"pos\").when(f.col('overall') == 3, \"net\")\n",
    "                       .otherwise(\"neg\"))\n",
    "review_data.show(5)"
   ]
  },
  {
   "cell_type": "markdown",
   "metadata": {},
   "source": [
    "Splitting data into training, validation and testing data"
   ]
  },
  {
   "cell_type": "code",
   "execution_count": 17,
   "metadata": {},
   "outputs": [
    {
     "name": "stdout",
     "output_type": "stream",
     "text": [
      "The number of records in training data: 4717030\n",
      "The number of records in Validation data: 1348531\n",
      "The number of records in testing data: 672676\n"
     ]
    }
   ],
   "source": [
    "#Divide the data into training , validation and testing data\n",
    "(training_data,validation_data,testing_data) = review_data.randomSplit([0.7,0.2,0.1], seed=12345)\n",
    "print(\"The number of records in training data:\",training_data.count())\n",
    "print(\"The number of records in Validation data:\",validation_data.count())\n",
    "print(\"The number of records in testing data:\",testing_data.count())"
   ]
  },
  {
   "cell_type": "markdown",
   "metadata": {},
   "source": [
    "Pipeline creation using TF-IDF"
   ]
  },
  {
   "cell_type": "code",
   "execution_count": 18,
   "metadata": {},
   "outputs": [],
   "source": [
    "#Function to create pipeline for TF-IDF\n",
    "def pipeline_creation_tfidf():\n",
    "    #Tokenize the Review Text\n",
    "    tokenizer = Tokenizer(inputCol=\"reviewText\", outputCol=\"words\")\n",
    "    # Remove stop words\n",
    "    remover = StopWordsRemover(inputCol='words', outputCol='words_clean')\n",
    "    #TF IDF \n",
    "    hashtf = HashingTF(numFeatures=2**16, inputCol=\"words_clean\", outputCol='tf')\n",
    "    idf = IDF(inputCol='tf', outputCol=\"features\", minDocFreq=5) #minDocFreq: remove sparse terms\n",
    "    label_stringIdx = StringIndexer(inputCol = \"sentiment\", outputCol = \"label\")\n",
    "    pipeline_tfidf = Pipeline(stages=[tokenizer,remover, hashtf, idf, label_stringIdx])\n",
    "    \n",
    "    return pipeline_tfidf\n"
   ]
  },
  {
   "cell_type": "markdown",
   "metadata": {},
   "source": [
    "Pipeline creation using Bag of words"
   ]
  },
  {
   "cell_type": "code",
   "execution_count": 19,
   "metadata": {},
   "outputs": [],
   "source": [
    "#Function to create pipeline for Bag of Words\n",
    "def pipeline_creation_bow():\n",
    "    #Tokenize the Review Text\n",
    "    tokenizer = Tokenizer(inputCol=\"reviewText\", outputCol=\"words\")\n",
    "    # Remove stop words\n",
    "    remover = StopWordsRemover(inputCol='words', outputCol='words_clean')\n",
    "    # bag of words count\n",
    "    countVectors = CountVectorizer(inputCol=\"words_clean\", outputCol=\"features\", vocabSize=10000, minDF=5)\n",
    "    label_stringIdx = StringIndexer(inputCol = \"sentiment\", outputCol = \"label\")\n",
    "    pipeline_bow = Pipeline(stages=[tokenizer, remover, countVectors, label_stringIdx])\n",
    "    \n",
    "    return pipeline_bow"
   ]
  },
  {
   "cell_type": "code",
   "execution_count": 20,
   "metadata": {},
   "outputs": [],
   "source": [
    "#Transforming the data according to TF-IDF pipeline\n",
    "pipeline_tfidf = pipeline_creation_tfidf()\n",
    "pipeline_fit_tfidf = pipeline_tfidf.fit(training_data)\n",
    "train_df_tfidf = pipeline_fit_tfidf.transform(training_data)\n",
    "val_df_tfidf = pipeline_fit_tfidf.transform(validation_data)\n",
    "test_df_tfidf = pipeline_fit_tfidf.transform(testing_data)"
   ]
  },
  {
   "cell_type": "code",
   "execution_count": 31,
   "metadata": {},
   "outputs": [
    {
     "name": "stdout",
     "output_type": "stream",
     "text": [
      "+--------------------+-------+---------+--------------------+--------------------+--------------------+--------------------+-----+\n",
      "|          reviewText|overall|sentiment|               words|         words_clean|                  tf|            features|label|\n",
      "+--------------------+-------+---------+--------------------+--------------------+--------------------+--------------------+-----+\n",
      "|\n",
      "\n",
      "I get my news f...|    5.0|      pos|[, , i, get, my, ...|[, , get, news, d...|(65536,[2423,2705...|(65536,[2423,2705...|  0.0|\n",
      "| \n",
      "\n",
      "Too expensive\n",
      "...|    5.0|      pos|[, , , too, expen...|[, , , expensive,...|(65536,[2798,3251...|(65536,[2798,3251...|  0.0|\n",
      "| \n",
      "\n",
      "Too expensive\n",
      "...|    5.0|      pos|[, , , too, expen...|[, , , expensive,...|(65536,[2798,3251...|(65536,[2798,3251...|  0.0|\n",
      "| Fuzzy Wuzzy's Su...|    5.0|      pos|[, fuzzy, wuzzy's...|[, fuzzy, wuzzy's...|(65536,[14,611,73...|(65536,[14,611,73...|  0.0|\n",
      "| Fuzzy Wuzzy's Su...|    5.0|      pos|[, fuzzy, wuzzy's...|[, fuzzy, wuzzy's...|(65536,[14,150,28...|(65536,[14,150,28...|  0.0|\n",
      "+--------------------+-------+---------+--------------------+--------------------+--------------------+--------------------+-----+\n",
      "only showing top 5 rows\n",
      "\n"
     ]
    }
   ],
   "source": [
    "#Transformed Training Data\n",
    "train_df_tfidf.show(5)"
   ]
  },
  {
   "cell_type": "code",
   "execution_count": 32,
   "metadata": {},
   "outputs": [
    {
     "name": "stdout",
     "output_type": "stream",
     "text": [
      "+--------------------+-------+---------+--------------------+--------------------+--------------------+--------------------+-----+\n",
      "|          reviewText|overall|sentiment|               words|         words_clean|                  tf|            features|label|\n",
      "+--------------------+-------+---------+--------------------+--------------------+--------------------+--------------------+-----+\n",
      "| Fuzzy Wuzzy's Su...|    5.0|      pos|[, fuzzy, wuzzy's...|[, fuzzy, wuzzy's...|(65536,[14,389,19...|(65536,[14,389,19...|  0.0|\n",
      "| Fuzzy Wuzzy's Su...|    5.0|      pos|[, fuzzy, wuzzy's...|[, fuzzy, wuzzy's...|(65536,[14,288,38...|(65536,[14,288,38...|  0.0|\n",
      "|\"\".`*.*Five Stars...|    5.0|      pos|[\"\".`*.*five, sta...|[\"\".`*.*five, sta...|(65536,[20004,289...|(65536,[20004,289...|  0.0|\n",
      "|\"4 foot cord\" is ...|    1.0|      neg|[\"4, foot, cord\",...|[\"4, foot, cord\",...|(65536,[1903,6891...|(65536,[1903,6891...|  1.0|\n",
      "|\"A good lens with...|    4.0|      pos|[\"a, good, lens, ...|[\"a, good, lens, ...|(65536,[14,886,16...|(65536,[14,886,16...|  0.0|\n",
      "+--------------------+-------+---------+--------------------+--------------------+--------------------+--------------------+-----+\n",
      "only showing top 5 rows\n",
      "\n"
     ]
    }
   ],
   "source": [
    "#Transformed validation Data\n",
    "val_df_tfidf.show(5)"
   ]
  },
  {
   "cell_type": "code",
   "execution_count": 33,
   "metadata": {},
   "outputs": [
    {
     "name": "stdout",
     "output_type": "stream",
     "text": [
      "+--------------------+-------+---------+--------------------+--------------------+--------------------+--------------------+-----+\n",
      "|          reviewText|overall|sentiment|               words|         words_clean|                  tf|            features|label|\n",
      "+--------------------+-------+---------+--------------------+--------------------+--------------------+--------------------+-----+\n",
      "| Fuzzy Wuzzy's Su...|    5.0|      pos|[, fuzzy, wuzzy's...|[, fuzzy, wuzzy's...|(65536,[14,493,54...|(65536,[14,493,54...|  0.0|\n",
      "| Nice bass respon...|    5.0|      pos|[, nice, bass, re...|[, nice, bass, re...|(65536,[5424,6369...|(65536,[5424,6369...|  0.0|\n",
      "|                  #1|    5.0|      pos|                [#1]|                [#1]|(65536,[18004],[1...|(65536,[18004],[7...|  0.0|\n",
      "|$7 protection for...|    5.0|      pos|[$7, protection, ...|[$7, protection, ...|(65536,[3426,7414...|(65536,[3426,7414...|  0.0|\n",
      "|'Bought several o...|    2.0|      neg|['bought, several...|['bought, several...|(65536,[14,3795,5...|(65536,[14,3795,5...|  1.0|\n",
      "+--------------------+-------+---------+--------------------+--------------------+--------------------+--------------------+-----+\n",
      "only showing top 5 rows\n",
      "\n"
     ]
    }
   ],
   "source": [
    "#Transformed Testing Data\n",
    "test_df_tfidf.show(5)"
   ]
  },
  {
   "cell_type": "code",
   "execution_count": 21,
   "metadata": {},
   "outputs": [],
   "source": [
    "#Transforming the data according to Bag of Words pipeline\n",
    "pipeline_bow = pipeline_creation_bow()\n",
    "pipeline_fit_bow = pipeline_bow.fit(training_data)\n",
    "train_df_bow = pipeline_fit_bow.transform(training_data)\n",
    "val_df_bow = pipeline_fit_bow.transform(validation_data)\n",
    "test_df_bow = pipeline_fit_bow.transform(testing_data)"
   ]
  },
  {
   "cell_type": "code",
   "execution_count": 35,
   "metadata": {},
   "outputs": [
    {
     "name": "stdout",
     "output_type": "stream",
     "text": [
      "+--------------------+-------+---------+--------------------+--------------------+--------------------+-----+\n",
      "|          reviewText|overall|sentiment|               words|         words_clean|            features|label|\n",
      "+--------------------+-------+---------+--------------------+--------------------+--------------------+-----+\n",
      "|\n",
      "\n",
      "I get my news f...|    5.0|      pos|[, , i, get, my, ...|[, , get, news, d...|(10000,[0,1,2,6,7...|  0.0|\n",
      "| \n",
      "\n",
      "Too expensive\n",
      "...|    5.0|      pos|[, , , too, expen...|[, , , expensive,...|(10000,[0,4,311,4...|  0.0|\n",
      "| \n",
      "\n",
      "Too expensive\n",
      "...|    5.0|      pos|[, , , too, expen...|[, , , expensive,...|(10000,[0,4,311,4...|  0.0|\n",
      "| Fuzzy Wuzzy's Su...|    5.0|      pos|[, fuzzy, wuzzy's...|[, fuzzy, wuzzy's...|(10000,[0,2,3,4,6...|  0.0|\n",
      "| Fuzzy Wuzzy's Su...|    5.0|      pos|[, fuzzy, wuzzy's...|[, fuzzy, wuzzy's...|(10000,[0,2,3,4,6...|  0.0|\n",
      "+--------------------+-------+---------+--------------------+--------------------+--------------------+-----+\n",
      "only showing top 5 rows\n",
      "\n"
     ]
    }
   ],
   "source": [
    "#Transformed Training Data\n",
    "train_df_bow.show(5)"
   ]
  },
  {
   "cell_type": "code",
   "execution_count": 36,
   "metadata": {},
   "outputs": [
    {
     "name": "stdout",
     "output_type": "stream",
     "text": [
      "+--------------------+-------+---------+--------------------+--------------------+--------------------+-----+\n",
      "|          reviewText|overall|sentiment|               words|         words_clean|            features|label|\n",
      "+--------------------+-------+---------+--------------------+--------------------+--------------------+-----+\n",
      "| Fuzzy Wuzzy's Su...|    5.0|      pos|[, fuzzy, wuzzy's...|[, fuzzy, wuzzy's...|(10000,[0,2,4,9,1...|  0.0|\n",
      "| Fuzzy Wuzzy's Su...|    5.0|      pos|[, fuzzy, wuzzy's...|[, fuzzy, wuzzy's...|(10000,[0,2,3,4,6...|  0.0|\n",
      "|\"\".`*.*Five Stars...|    5.0|      pos|[\"\".`*.*five, sta...|[\"\".`*.*five, sta...|       (10000,[],[])|  0.0|\n",
      "|\"4 foot cord\" is ...|    1.0|      neg|[\"4, foot, cord\",...|[\"4, foot, cord\",...|(10000,[26,118,15...|  1.0|\n",
      "|\"A good lens with...|    4.0|      pos|[\"a, good, lens, ...|[\"a, good, lens, ...|(10000,[0,3,4,6,7...|  0.0|\n",
      "+--------------------+-------+---------+--------------------+--------------------+--------------------+-----+\n",
      "only showing top 5 rows\n",
      "\n"
     ]
    }
   ],
   "source": [
    "#Transformed validation Data\n",
    "val_df_bow.show(5)"
   ]
  },
  {
   "cell_type": "code",
   "execution_count": 37,
   "metadata": {},
   "outputs": [
    {
     "name": "stdout",
     "output_type": "stream",
     "text": [
      "+--------------------+-------+---------+--------------------+--------------------+--------------------+-----+\n",
      "|          reviewText|overall|sentiment|               words|         words_clean|            features|label|\n",
      "+--------------------+-------+---------+--------------------+--------------------+--------------------+-----+\n",
      "| Fuzzy Wuzzy's Su...|    5.0|      pos|[, fuzzy, wuzzy's...|[, fuzzy, wuzzy's...|(10000,[0,2,3,4,6...|  0.0|\n",
      "| Nice bass respon...|    5.0|      pos|[, nice, bass, re...|[, nice, bass, re...|(10000,[0,6,15,27...|  0.0|\n",
      "|                  #1|    5.0|      pos|                [#1]|                [#1]|(10000,[5838],[1.0])|  0.0|\n",
      "|$7 protection for...|    5.0|      pos|[$7, protection, ...|[$7, protection, ...|(10000,[7,13,20,2...|  0.0|\n",
      "|'Bought several o...|    2.0|      neg|['bought, several...|['bought, several...|(10000,[2,4,6,9,1...|  1.0|\n",
      "+--------------------+-------+---------+--------------------+--------------------+--------------------+-----+\n",
      "only showing top 5 rows\n",
      "\n"
     ]
    }
   ],
   "source": [
    "#Transformed Testing Data\n",
    "test_df_bow.show(5)"
   ]
  },
  {
   "cell_type": "code",
   "execution_count": 24,
   "metadata": {},
   "outputs": [],
   "source": [
    "#Function for the evaluation of the models\n",
    "def evaluation(pred_model):\n",
    "    evaluator_accuracy = MulticlassClassificationEvaluator(predictionCol=\"prediction\",metricName=\"accuracy\")\n",
    "    accuracy = evaluator_accuracy.evaluate(pred_model)\n",
    "    evaluator_f1 = MulticlassClassificationEvaluator(predictionCol=\"prediction\",metricName=\"f1\")\n",
    "    f1 = evaluator_f1.evaluate(pred_model)\n",
    "    evaluator_precision = MulticlassClassificationEvaluator(predictionCol=\"prediction\",metricName=\"weightedPrecision\")\n",
    "    precision = evaluator_precision.evaluate(pred_model)\n",
    "    evaluator_recall =  MulticlassClassificationEvaluator(predictionCol=\"prediction\",metricName=\"weightedRecall\")\n",
    "    recall = evaluator_recall.evaluate(pred_model)\n",
    "    return accuracy,f1,precision,recall"
   ]
  },
  {
   "cell_type": "markdown",
   "metadata": {},
   "source": [
    "Logistic Regression using TF-IDF"
   ]
  },
  {
   "cell_type": "code",
   "execution_count": 39,
   "metadata": {},
   "outputs": [],
   "source": [
    "#Logistic Regression with TF-IDF\n",
    "logistic_regression_tfidf = LogisticRegression(maxIter=100)\n",
    "logistic_regression_tfidf_model = logistic_regression_tfidf.fit(train_df_tfidf )\n",
    "pred_logistic_regression_tfidf = logistic_regression_tfidf_model.transform(val_df_tfidf)"
   ]
  },
  {
   "cell_type": "code",
   "execution_count": 40,
   "metadata": {},
   "outputs": [
    {
     "name": "stdout",
     "output_type": "stream",
     "text": [
      "The Accuracy of Logistic Regression model on Validation data:\n",
      "86.4524434365988\n",
      "The F1-Score of Logistic Regression model on Validation data:\n",
      "84.28066933376067\n",
      "The Precision of Logistic Regression model on Validation data:\n",
      "83.54079394490236\n",
      "The Recall of Logistic Regression model on Validation data:\n",
      "86.4524434365988\n"
     ]
    }
   ],
   "source": [
    "#Evaluation on Validation Data\n",
    "accuracy,f1,precision,recall = evaluation(pred_logistic_regression_tfidf)\n",
    "print(\"The Accuracy of Logistic Regression model on Validation data:\")\n",
    "print(accuracy*100)\n",
    "print(\"The F1-Score of Logistic Regression model on Validation data:\")\n",
    "print(f1*100)\n",
    "print(\"The Precision of Logistic Regression model on Validation data:\")\n",
    "print(precision*100)\n",
    "print(\"The Recall of Logistic Regression model on Validation data:\")\n",
    "print(recall*100)"
   ]
  },
  {
   "cell_type": "code",
   "execution_count": 41,
   "metadata": {},
   "outputs": [
    {
     "name": "stdout",
     "output_type": "stream",
     "text": [
      "The Accuracy of Logistic Regression model on Testing data:\n",
      "86.49974133163663\n",
      "The F1-Score of Logistic Regression model on Testing data:\n",
      "84.35134678444439\n",
      "The Precision of Logistic Regression model on Testing data:\n",
      "83.63440836556644\n",
      "The Recall of Logistic Regression model on Testing data:\n",
      "86.49974133163663\n"
     ]
    }
   ],
   "source": [
    "#Evaluation on Testing Data\n",
    "test_pred_logistic_regression_tfidf  = logistic_regression_tfidf_model.transform(test_df_tfidf )\n",
    "#Evaluation on Validation Data\n",
    "accuracy,f1,precision,recall = evaluation(test_pred_logistic_regression_tfidf)\n",
    "print(\"The Accuracy of Logistic Regression model on Testing data:\")\n",
    "print(accuracy*100)\n",
    "print(\"The F1-Score of Logistic Regression model on Testing data:\")\n",
    "print(f1*100)\n",
    "print(\"The Precision of Logistic Regression model on Testing data:\")\n",
    "print(precision*100)\n",
    "print(\"The Recall of Logistic Regression model on Testing data:\")\n",
    "print(recall*100)"
   ]
  },
  {
   "cell_type": "markdown",
   "metadata": {},
   "source": [
    "Logistic Regression using Bag of Words"
   ]
  },
  {
   "cell_type": "code",
   "execution_count": 42,
   "metadata": {},
   "outputs": [],
   "source": [
    "#Logistic Regression with bag of words\n",
    "logistic_regression_bow = LogisticRegression(maxIter=100)\n",
    "logistic_regression_bow_model = logistic_regression_bow.fit(train_df_bow )\n",
    "pred_logistic_regression_bow = logistic_regression_bow_model.transform(val_df_bow )"
   ]
  },
  {
   "cell_type": "code",
   "execution_count": 43,
   "metadata": {},
   "outputs": [
    {
     "name": "stdout",
     "output_type": "stream",
     "text": [
      "The Accuracy of Logistic Regression model on Validation data:\n",
      "86.59304087188207\n",
      "The F1-Score of Logistic Regression model on Validation data:\n",
      "84.0155821198447\n",
      "The Precision of Logistic Regression model on Validation data:\n",
      "83.54993005059511\n",
      "The Recall of Logistic Regression model on Validation data:\n",
      "86.59304087188208\n"
     ]
    }
   ],
   "source": [
    "#Evaluation on Validation Data\n",
    "accuracy,f1,precision,recall = evaluation(pred_logistic_regression_bow)\n",
    "print(\"The Accuracy of Logistic Regression model on Validation data:\")\n",
    "print(accuracy*100)\n",
    "print(\"The F1-Score of Logistic Regression model on Validation data:\")\n",
    "print(f1*100)\n",
    "print(\"The Precision of Logistic Regression model on Validation data:\")\n",
    "print(precision*100)\n",
    "print(\"The Recall of Logistic Regression model on Validation data:\")\n",
    "print(recall*100)"
   ]
  },
  {
   "cell_type": "code",
   "execution_count": 44,
   "metadata": {},
   "outputs": [
    {
     "name": "stdout",
     "output_type": "stream",
     "text": [
      "The Accuracy of Logistic Regression model on Testing data:\n",
      "86.64349553128103\n",
      "The F1-Score of Logistic Regression model on Testing data:\n",
      "84.08088912889055\n",
      "The Precision of Logistic Regression model on Testing data:\n",
      "83.63198133467901\n",
      "The Recall of Logistic Regression model on Testing data:\n",
      "86.64349553128103\n"
     ]
    }
   ],
   "source": [
    "#Evaluation on Testing Data\n",
    "test_pred_logistic_regression_bow  = logistic_regression_bow_model.transform(test_df_bow)\n",
    "#Evaluation on Validation Data\n",
    "accuracy,f1,precision,recall = evaluation(test_pred_logistic_regression_bow)\n",
    "print(\"The Accuracy of Logistic Regression model on Testing data:\")\n",
    "print(accuracy*100)\n",
    "print(\"The F1-Score of Logistic Regression model on Testing data:\")\n",
    "print(f1*100)\n",
    "print(\"The Precision of Logistic Regression model on Testing data:\")\n",
    "print(precision*100)\n",
    "print(\"The Recall of Logistic Regression model on Testing data:\")\n",
    "print(recall*100)"
   ]
  },
  {
   "cell_type": "markdown",
   "metadata": {},
   "source": [
    "Decision Tree using TF-IDF"
   ]
  },
  {
   "cell_type": "code",
   "execution_count": 22,
   "metadata": {},
   "outputs": [],
   "source": [
    "#Decision Tree with TF-IDF\n",
    "decision_tree_tfidf = DecisionTreeClassifier(maxDepth = 3)\n",
    "decision_tree_tfidf_model = decision_tree_tfidf.fit(train_df_tfidf)\n",
    "pred_decision_tree_tfidf = decision_tree_tfidf_model.transform(val_df_tfidf)"
   ]
  },
  {
   "cell_type": "code",
   "execution_count": 25,
   "metadata": {},
   "outputs": [
    {
     "name": "stdout",
     "output_type": "stream",
     "text": [
      "The Accuracy of Decision Tree model on Validation data:\n",
      "81.77372266562652\n",
      "The F1-Score of Decision Tree model on Validation data:\n",
      "74.94841607521757\n",
      "The Precision of Decision Tree model on Validation data:\n",
      "73.58787522769545\n",
      "The Recall of Decision Tree model on Validation data:\n",
      "81.77372266562652\n"
     ]
    }
   ],
   "source": [
    "#Evaluation on Validation Data\n",
    "accuracy,f1,precision,recall = evaluation(pred_decision_tree_tfidf)\n",
    "print(\"The Accuracy of Decision Tree model on Validation data:\")\n",
    "print(accuracy*100)\n",
    "print(\"The F1-Score of Decision Tree model on Validation data:\")\n",
    "print(f1*100)\n",
    "print(\"The Precision of Decision Tree model on Validation data:\")\n",
    "print(precision*100)\n",
    "print(\"The Recall of Decision Tree model on Validation data:\")\n",
    "print(recall*100)"
   ]
  },
  {
   "cell_type": "code",
   "execution_count": 26,
   "metadata": {},
   "outputs": [
    {
     "name": "stdout",
     "output_type": "stream",
     "text": [
      "The Accuracy of Decision Tree model on Testing data:\n",
      "81.78053029987692\n",
      "The F1-Score of Decision Tree model on Testing data:\n",
      "74.95688696358752\n",
      "The Precision of Decision Tree model on Testing data:\n",
      "73.50878890324522\n",
      "The Recall of Decision Tree model on Testing data:\n",
      "81.78053029987692\n"
     ]
    }
   ],
   "source": [
    "#Evaluation on Testing Data\n",
    "test_pred_decision_tree_tfidf  = decision_tree_tfidf_model.transform(test_df_tfidf)\n",
    "#Evaluation on Validation Data\n",
    "accuracy,f1,precision,recall = evaluation(test_pred_decision_tree_tfidf)\n",
    "print(\"The Accuracy of Decision Tree model on Testing data:\")\n",
    "print(accuracy*100)\n",
    "print(\"The F1-Score of Decision Tree model on Testing data:\")\n",
    "print(f1*100)\n",
    "print(\"The Precision of Decision Tree model on Testing data:\")\n",
    "print(precision*100)\n",
    "print(\"The Recall of Decision Tree model on Testing data:\")\n",
    "print(recall*100)"
   ]
  },
  {
   "cell_type": "markdown",
   "metadata": {},
   "source": [
    "Decision Tree using Bag of Words"
   ]
  },
  {
   "cell_type": "code",
   "execution_count": 59,
   "metadata": {},
   "outputs": [],
   "source": [
    "#Decision Tree with Bag of Words\n",
    "decision_tree_bow = DecisionTreeClassifier(maxDepth = 3)\n",
    "decision_tree_bow_model = decision_tree_bow.fit(train_df_bow)\n",
    "pred_decision_tree_bow = decision_tree_bow_model.transform(val_df_bow)"
   ]
  },
  {
   "cell_type": "code",
   "execution_count": 60,
   "metadata": {},
   "outputs": [
    {
     "name": "stdout",
     "output_type": "stream",
     "text": [
      "The Accuracy of Decision Tree model on Validation data:\n",
      "81.77572484429353\n",
      "The F1-Score of Decision Tree model on Validation data:\n",
      "74.95010530444354\n",
      "The Precision of Decision Tree model on Validation data:\n",
      "73.5952300884667\n",
      "The Recall of Decision Tree model on Validation data:\n",
      "81.77572484429353\n"
     ]
    }
   ],
   "source": [
    "#Evaluation on Validation Data\n",
    "accuracy,f1,precision,recall = evaluation(pred_decision_tree_bow)\n",
    "print(\"The Accuracy of Decision Tree model on Validation data:\")\n",
    "print(accuracy*100)\n",
    "print(\"The F1-Score of Decision Tree model on Validation data:\")\n",
    "print(f1*100)\n",
    "print(\"The Precision of Decision Tree model on Validation data:\")\n",
    "print(precision*100)\n",
    "print(\"The Recall of Decision Tree model on Validation data:\")\n",
    "print(recall*100)"
   ]
  },
  {
   "cell_type": "code",
   "execution_count": 61,
   "metadata": {},
   "outputs": [
    {
     "name": "stdout",
     "output_type": "stream",
     "text": [
      "The Accuracy of Decision Tree model on Testing data:\n",
      "81.78469277928751\n",
      "The F1-Score of Decision Tree model on Testing data:\n",
      "74.96020307530009\n",
      "The Precision of Decision Tree model on Testing data:\n",
      "73.52355590588803\n",
      "The Recall of Decision Tree model on Testing data:\n",
      "81.78469277928751\n"
     ]
    }
   ],
   "source": [
    "#Evaluation on Testing Data\n",
    "test_pred_decision_tree_bow  = decision_tree_bow_model.transform(test_df_bow)\n",
    "#Evaluation on Validation Data\n",
    "accuracy,f1,precision,recall = evaluation(test_pred_decision_tree_bow)\n",
    "print(\"The Accuracy of Decision Tree model on Testing data:\")\n",
    "print(accuracy*100)\n",
    "print(\"The F1-Score of Decision Tree model on Testing data:\")\n",
    "print(f1*100)\n",
    "print(\"The Precision of Decision Tree model on Testing data:\")\n",
    "print(precision*100)\n",
    "print(\"The Recall of Decision Tree model on Testing data:\")\n",
    "print(recall*100)"
   ]
  },
  {
   "cell_type": "markdown",
   "metadata": {},
   "source": [
    "Naive Bayes using TF-IDF"
   ]
  },
  {
   "cell_type": "code",
   "execution_count": 46,
   "metadata": {},
   "outputs": [],
   "source": [
    "#Naive Bayes Algorithm using TF-IDF\n",
    "naive_bayes_tfidf = NaiveBayes(smoothing=1)\n",
    "naive_bayes_tfidf_model = naive_bayes_tfidf.fit(train_df_tfidf)\n",
    "pred_naive_bayes_tfidf = naive_bayes_tfidf_model.transform(val_df_tfidf)"
   ]
  },
  {
   "cell_type": "code",
   "execution_count": 47,
   "metadata": {},
   "outputs": [
    {
     "name": "stdout",
     "output_type": "stream",
     "text": [
      "The Accuracy of Naive Bayes model on Validation data:\n",
      "78.25589474769212\n",
      "The F1-Score of Naive Bayes model on Validation data:\n",
      "80.48308087461893\n",
      "The Precision of Naive Bayes model on Validation data:\n",
      "83.92081579779051\n",
      "The Recall of Naive Bayes model on Validation data:\n",
      "78.25589474769212\n"
     ]
    }
   ],
   "source": [
    "#Evaluation on Validation Data\n",
    "accuracy,f1,precision,recall = evaluation(pred_naive_bayes_tfidf)\n",
    "print(\"The Accuracy of Naive Bayes model on Validation data:\")\n",
    "print(accuracy*100)\n",
    "print(\"The F1-Score of Naive Bayes model on Validation data:\")\n",
    "print(f1*100)\n",
    "print(\"The Precision of Naive Bayes model on Validation data:\")\n",
    "print(precision*100)\n",
    "print(\"The Recall of Naive Bayes model on Validation data:\")\n",
    "print(recall*100)"
   ]
  },
  {
   "cell_type": "code",
   "execution_count": 48,
   "metadata": {},
   "outputs": [
    {
     "name": "stdout",
     "output_type": "stream",
     "text": [
      "The Accuracy of Naive Bayes model on Testing data:\n",
      "78.24435538059927\n",
      "The F1-Score of Naive Bayes model on Testing data:\n",
      "80.48146658671014\n",
      "The Precision of Naive Bayes model on Testing data:\n",
      "83.93014360096755\n",
      "The Recall of Naive Bayes model on Testing data:\n",
      "78.24435538059929\n"
     ]
    }
   ],
   "source": [
    "#Evaluation on Testing Data\n",
    "test_pred_naive_bayes_tfidf  = naive_bayes_tfidf_model.transform(test_df_tfidf)\n",
    "#Evaluation on Validation Data\n",
    "accuracy,f1,precision,recall = evaluation(test_pred_naive_bayes_tfidf)\n",
    "print(\"The Accuracy of Naive Bayes model on Testing data:\")\n",
    "print(accuracy*100)\n",
    "print(\"The F1-Score of Naive Bayes model on Testing data:\")\n",
    "print(f1*100)\n",
    "print(\"The Precision of Naive Bayes model on Testing data:\")\n",
    "print(precision*100)\n",
    "print(\"The Recall of Naive Bayes model on Testing data:\")\n",
    "print(recall*100)"
   ]
  },
  {
   "cell_type": "markdown",
   "metadata": {},
   "source": [
    "Naive Bayes using Bag of words"
   ]
  },
  {
   "cell_type": "code",
   "execution_count": 49,
   "metadata": {},
   "outputs": [],
   "source": [
    "#Naive Bayes Algorithm using Bag of words\n",
    "naive_bayes_bow = NaiveBayes(smoothing=1)\n",
    "naive_bayes_bow_model = naive_bayes_bow.fit(train_df_bow)\n",
    "pred_naive_bayes_bow = naive_bayes_bow_model.transform(val_df_bow)"
   ]
  },
  {
   "cell_type": "code",
   "execution_count": 50,
   "metadata": {},
   "outputs": [
    {
     "name": "stdout",
     "output_type": "stream",
     "text": [
      "The Accuracy of Naive Bayes model on Validation data:\n",
      "83.22871331841833\n",
      "The F1-Score of Naive Bayes model on Validation data:\n",
      "82.6926153922537\n",
      "The Precision of Naive Bayes model on Validation data:\n",
      "82.2208931045195\n",
      "The Recall of Naive Bayes model on Validation data:\n",
      "83.22871331841834\n"
     ]
    }
   ],
   "source": [
    "#Evaluation on Validation Data\n",
    "accuracy,f1,precision,recall = evaluation(pred_naive_bayes_bow)\n",
    "print(\"The Accuracy of Naive Bayes model on Validation data:\")\n",
    "print(accuracy*100)\n",
    "print(\"The F1-Score of Naive Bayes model on Validation data:\")\n",
    "print(f1*100)\n",
    "print(\"The Precision of Naive Bayes model on Validation data:\")\n",
    "print(precision*100)\n",
    "print(\"The Recall of Naive Bayes model on Validation data:\")\n",
    "print(recall*100)"
   ]
  },
  {
   "cell_type": "code",
   "execution_count": 51,
   "metadata": {},
   "outputs": [
    {
     "name": "stdout",
     "output_type": "stream",
     "text": [
      "The Accuracy of Naive Bayes model on Testing data:\n",
      "83.24453377257402\n",
      "The F1-Score of Naive Bayes model on Testing data:\n",
      "82.71747565503867\n",
      "The Precision of Naive Bayes model on Testing data:\n",
      "82.2524575788495\n",
      "The Recall of Naive Bayes model on Testing data:\n",
      "83.24453377257402\n"
     ]
    }
   ],
   "source": [
    "#Evaluation on Testing Data\n",
    "test_pred_naive_bayes_bow  = naive_bayes_bow_model.transform(test_df_bow)\n",
    "#Evaluation on Validation Data\n",
    "accuracy,f1,precision,recall = evaluation(test_pred_naive_bayes_bow)\n",
    "print(\"The Accuracy of Naive Bayes model on Testing data:\")\n",
    "print(accuracy*100)\n",
    "print(\"The F1-Score of Naive Bayes model on Testing data:\")\n",
    "print(f1*100)\n",
    "print(\"The Precision of Naive Bayes model on Testing data:\")\n",
    "print(precision*100)\n",
    "print(\"The Recall of Naive Bayes model on Testing data:\")\n",
    "print(recall*100)"
   ]
  },
  {
   "cell_type": "markdown",
   "metadata": {},
   "source": [
    "Random forest using TF-IDF"
   ]
  },
  {
   "cell_type": "code",
   "execution_count": 52,
   "metadata": {},
   "outputs": [],
   "source": [
    "#Random Forest Algorithm using TF-IDF\n",
    "random_forest_tfidf = RandomForestClassifier(labelCol=\"label\",featuresCol=\"features\", numTrees = 100,maxDepth = 4,maxBins = 32)\n",
    "random_forest_tfidf_model = random_forest_tfidf.fit(train_df_tfidf)\n",
    "pred_random_forest_tfidf = random_forest_tfidf_model.transform(val_df_tfidf)"
   ]
  },
  {
   "cell_type": "code",
   "execution_count": 53,
   "metadata": {},
   "outputs": [
    {
     "name": "stdout",
     "output_type": "stream",
     "text": [
      "The Accuracy of Random Forest model on Validation data:\n",
      "81.06472895320908\n",
      "The F1-Score of Random Forest model on Validation data:\n",
      "72.58719374280196\n",
      "The Precision of Random Forest model on Validation data:\n",
      "65.71490280257255\n",
      "The Recall of Random Forest model on Validation data:\n",
      "81.06472895320908\n"
     ]
    }
   ],
   "source": [
    "#Evaluation on Validation Data\n",
    "accuracy,f1,precision,recall = evaluation(pred_random_forest_tfidf)\n",
    "print(\"The Accuracy of Random Forest model on Validation data:\")\n",
    "print(accuracy*100)\n",
    "print(\"The F1-Score of Random Forest model on Validation data:\")\n",
    "print(f1*100)\n",
    "print(\"The Precision of Random Forest model on Validation data:\")\n",
    "print(precision*100)\n",
    "print(\"The Recall of Random Forest model on Validation data:\")\n",
    "print(recall*100)"
   ]
  },
  {
   "cell_type": "code",
   "execution_count": 54,
   "metadata": {},
   "outputs": [
    {
     "name": "stdout",
     "output_type": "stream",
     "text": [
      "The Accuracy of Random Forest model on Testing data:\n",
      "81.10561399544505\n",
      "The F1-Score of Random Forest model on Testing data:\n",
      "72.64402771902563\n",
      "The Precision of Random Forest model on Testing data:\n",
      "65.78120621578132\n",
      "The Recall of Random Forest model on Testing data:\n",
      "81.10561399544505\n"
     ]
    }
   ],
   "source": [
    "#Evaluation on Testing Data\n",
    "test_pred_random_forest_tfidf  = random_forest_tfidf_model.transform(test_df_tfidf)\n",
    "#Evaluation on Validation Data\n",
    "accuracy,f1,precision,recall = evaluation(test_pred_random_forest_tfidf)\n",
    "print(\"The Accuracy of Random Forest model on Testing data:\")\n",
    "print(accuracy*100)\n",
    "print(\"The F1-Score of Random Forest model on Testing data:\")\n",
    "print(f1*100)\n",
    "print(\"The Precision of Random Forest model on Testing data:\")\n",
    "print(precision*100)\n",
    "print(\"The Recall of Random Forest model on Testing data:\")\n",
    "print(recall*100)"
   ]
  },
  {
   "cell_type": "markdown",
   "metadata": {},
   "source": [
    "Random Forest using Bag of Words"
   ]
  },
  {
   "cell_type": "code",
   "execution_count": 56,
   "metadata": {},
   "outputs": [],
   "source": [
    "#Random Forest Algorithm using Bag of words\n",
    "random_forest_bow = RandomForestClassifier(labelCol=\"label\",featuresCol=\"features\", numTrees = 100,maxDepth = 4,maxBins = 32)\n",
    "random_forest_bow_model = random_forest_bow.fit(train_df_bow)\n",
    "pred_random_forest_bow = random_forest_bow_model.transform(val_df_bow)"
   ]
  },
  {
   "cell_type": "code",
   "execution_count": 57,
   "metadata": {},
   "outputs": [
    {
     "name": "stdout",
     "output_type": "stream",
     "text": [
      "The Accuracy of Random Forest model on Validation data:\n",
      "81.06472895320908\n",
      "The F1-Score of Random Forest model on Validation data:\n",
      "72.58719374280196\n",
      "The Precision of Random Forest model on Validation data:\n",
      "65.71490280257255\n",
      "The Recall of Random Forest model on Validation data:\n",
      "81.06472895320908\n"
     ]
    }
   ],
   "source": [
    "#Evaluation on Validation Data\n",
    "accuracy,f1,precision,recall = evaluation(pred_random_forest_bow)\n",
    "print(\"The Accuracy of Random Forest model on Validation data:\")\n",
    "print(accuracy*100)\n",
    "print(\"The F1-Score of Random Forest model on Validation data:\")\n",
    "print(f1*100)\n",
    "print(\"The Precision of Random Forest model on Validation data:\")\n",
    "print(precision*100)\n",
    "print(\"The Recall of Random Forest model on Validation data:\")\n",
    "print(recall*100)"
   ]
  },
  {
   "cell_type": "code",
   "execution_count": 58,
   "metadata": {},
   "outputs": [
    {
     "name": "stdout",
     "output_type": "stream",
     "text": [
      "The Accuracy of Random Forest model on Testing data:\n",
      "81.10561399544505\n",
      "The F1-Score of Random Forest model on Testing data:\n",
      "72.64402771902563\n",
      "The Precision of Random Forest model on Testing data:\n",
      "65.78120621578132\n",
      "The Recall of Random Forest model on Testing data:\n",
      "81.10561399544505\n"
     ]
    }
   ],
   "source": [
    "#Evaluation on Testing Data\n",
    "test_pred_random_forest_bow  = random_forest_bow_model.transform(test_df_bow)\n",
    "#Evaluation on Validation Data\n",
    "accuracy,f1,precision,recall = evaluation(test_pred_random_forest_bow)\n",
    "print(\"The Accuracy of Random Forest model on Testing data:\")\n",
    "print(accuracy*100)\n",
    "print(\"The F1-Score of Random Forest model on Testing data:\")\n",
    "print(f1*100)\n",
    "print(\"The Precision of Random Forest model on Testing data:\")\n",
    "print(precision*100)\n",
    "print(\"The Recall of Random Forest model on Testing data:\")\n",
    "print(recall*100)"
   ]
  },
  {
   "cell_type": "code",
   "execution_count": null,
   "metadata": {},
   "outputs": [],
   "source": []
  }
 ],
 "metadata": {
  "kernelspec": {
   "display_name": "Python 3",
   "language": "python",
   "name": "python3"
  },
  "language_info": {
   "codemirror_mode": {
    "name": "ipython",
    "version": 3
   },
   "file_extension": ".py",
   "mimetype": "text/x-python",
   "name": "python",
   "nbconvert_exporter": "python",
   "pygments_lexer": "ipython3",
   "version": "3.7.3"
  }
 },
 "nbformat": 4,
 "nbformat_minor": 2
}
